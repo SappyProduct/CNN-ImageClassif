{
 "cells": [
  {
   "cell_type": "code",
   "execution_count": 1,
   "id": "c0bded3b",
   "metadata": {},
   "outputs": [
    {
     "name": "stdout",
     "output_type": "stream",
     "text": [
      "PyTorch version= 2.7.0+cu128\n",
      "torchaudio version= 2.7.0+cu128\n",
      "torchvision version= 0.22.0+cu128\n",
      "CUDA available= True\n"
     ]
    }
   ],
   "source": [
    "%matplotlib inline\n",
    "import matplotlib.pyplot as plt\n",
    "plt.rcParams[\"figure.dpi\"] = 72\n",
    "import numpy as np\n",
    "import os\n",
    "import cv2\n",
    "import sys\n",
    "from tqdm import tqdm\n",
    "\n",
    "from sklearn.model_selection import train_test_split\n",
    "from sklearn.metrics import accuracy_score, classification_report, confusion_matrix, precision_recall_fscore_support\n",
    "\n",
    "import torch\n",
    "import torchaudio\n",
    "import torchaudio.transforms as atransforms\n",
    "import torchvision\n",
    "import torchvision.datasets as dset\n",
    "import torchvision.transforms as vtransforms\n",
    "import torch.nn as nn\n",
    "from torch.utils.data import DataLoader, random_split\n",
    "import copy\n",
    "\n",
    "gpu = torch.device('cuda:0')\n",
    "\n",
    "print(f'PyTorch version= {torch.__version__}')\n",
    "print(f'torchaudio version= {torchaudio.__version__}')\n",
    "print(f'torchvision version= {torchvision.__version__}')\n",
    "print(f'CUDA available= {torch.cuda.is_available()}')\n"
   ]
  },
  {
   "cell_type": "code",
   "execution_count": 2,
   "id": "2dbb5f03",
   "metadata": {},
   "outputs": [
    {
     "name": "stdout",
     "output_type": "stream",
     "text": [
      "CUDA Version\n",
      "nvcc: NVIDIA (R) Cuda compiler driver\n",
      "Copyright (c) 2005-2025 NVIDIA Corporation\n",
      "Built on Wed_Jan_15_19:38:46_Pacific_Standard_Time_2025\n",
      "Cuda compilation tools, release 12.8, V12.8.61\n",
      "Build cuda_12.8.r12.8/compiler.35404655_0\n",
      "\n",
      "CUDNN Version: 90701\n",
      "Number of CUDA Devices: 1\n",
      "Active CUDA Device: 0\n",
      "Available devices: 1, Name: NVIDIA GeForce RTX 4070\n",
      "Current CUDA device: 0\n"
     ]
    }
   ],
   "source": [
    "if torch.cuda.is_available():\n",
    "    # CUDA Installation\n",
    "    print('CUDA Version')\n",
    "    !nvcc --version\n",
    "    print()\n",
    "\n",
    "    # CUDNN Installation\n",
    "    print(f'CUDNN Version: {torch.backends.cudnn.version()}')\n",
    "    print(f'Number of CUDA Devices: {torch.cuda.device_count()}')\n",
    "    print(f'Active CUDA Device: {torch.cuda.current_device()}')\n",
    "    print(f'Available devices: {torch.cuda.device_count()}, Name: {torch.cuda.get_device_name(0)}')\n",
    "    print(f'Current CUDA device: {torch.cuda.current_device()}')"
   ]
  },
  {
   "cell_type": "code",
   "execution_count": 3,
   "id": "3e02b473",
   "metadata": {},
   "outputs": [],
   "source": [
    "def get_dataloader(_img_size, _bs,  _path, val_split=0.1):\n",
    "    transform = vtransforms.Compose([\n",
    "        vtransforms.Resize((_img_size, _img_size)),\n",
    "        vtransforms.ToTensor(),\n",
    "        vtransforms.Normalize((0.5,), (0.5,))\n",
    "    ])\n",
    "    \n",
    "    full_train_ds = dset.ImageFolder(\n",
    "        root=os.path.join(_path, 'seg_test', 'seg_test'),\n",
    "        transform=transform\n",
    "    )\n",
    "\n",
    "    # Split into train and validation sets\n",
    "    val_size = int(len(full_train_ds) * val_split)\n",
    "    train_size = len(full_train_ds) - val_size\n",
    "    train_ds, val_ds = random_split(full_train_ds, [train_size, val_size])\n",
    "\n",
    "    train_dl = DataLoader(train_ds, batch_size=_bs, shuffle=True, pin_memory=True, num_workers=4)\n",
    "    val_dl   = DataLoader(val_ds,   batch_size=_bs, shuffle=False, pin_memory=True, num_workers=4)\n",
    "\n",
    "    test_ds = dset.ImageFolder(\n",
    "        root=os.path.join(_path, 'seg_train', 'seg_train'),\n",
    "        transform=transform\n",
    "    )\n",
    "    test_dl = DataLoader(test_ds, batch_size=_bs, shuffle=False, pin_memory=True, num_workers=4)\n",
    "\n",
    "    return train_dl, val_dl, test_dl\n"
   ]
  },
  {
   "cell_type": "code",
   "execution_count": 4,
   "id": "0522e199",
   "metadata": {},
   "outputs": [],
   "source": [
    "def evaluate(model, dataloader, loss_func=None, label_names=None, device=None, set_name=\"Eval\", verbose=True):\n",
    "    model.eval()\n",
    "    device = device or torch.device(\"cuda\" if torch.cuda.is_available() else \"cpu\")\n",
    "\n",
    "    total_loss = 0.0\n",
    "    all_preds = []\n",
    "    all_labels = []\n",
    "\n",
    "    with torch.no_grad():\n",
    "        for X_batch, y_batch in dataloader:\n",
    "            X_batch, y_batch = X_batch.to(device), y_batch.to(device)\n",
    "\n",
    "            outputs = model(X_batch)\n",
    "\n",
    "            if loss_func is not None:\n",
    "                loss = loss_func(outputs, y_batch)\n",
    "                total_loss += loss.item() * X_batch.size(0)\n",
    "\n",
    "            preds = torch.argmax(outputs, dim=1)\n",
    "            all_preds.extend(preds.cpu().tolist())\n",
    "            all_labels.extend(y_batch.cpu().tolist())\n",
    "\n",
    "    # Accuracy\n",
    "    accuracy = accuracy_score(all_labels, all_preds)\n",
    "    avg_loss = total_loss / len(dataloader.dataset) if loss_func else None\n",
    "\n",
    "    # Optional verbose metrics\n",
    "    if verbose:\n",
    "        print(f\"\\n--- {set_name} Performance ---\")\n",
    "        print(f\"Accuracy: {accuracy * 100:.2f}%\")\n",
    "        if avg_loss is not None:\n",
    "            print(f\"Avg Loss: {avg_loss:.4f}\")\n",
    "        print(\"\\nClassification Report:\")\n",
    "        print(classification_report(all_labels, all_preds, target_names=label_names) if label_names else classification_report(all_labels, all_preds))\n",
    "        print(\"Confusion Matrix:\")\n",
    "        print(confusion_matrix(all_labels, all_preds))\n",
    "\n",
    "    return {\n",
    "        \"accuracy\": accuracy,\n",
    "        \"loss\": avg_loss,\n",
    "        \"preds\": all_preds,\n",
    "        \"labels\": all_labels\n",
    "    }"
   ]
  },
  {
   "cell_type": "code",
   "execution_count": 5,
   "id": "fcfd8341",
   "metadata": {},
   "outputs": [],
   "source": [
    "def fit(model, train_dl, lr, epochs, device=gpu, info=False, early_stop=False, patience=3, val_dl=None):\n",
    "    model.to(device)\n",
    "    loss_func = torch.nn.CrossEntropyLoss()\n",
    "    optimizer = torch.optim.Adam(model.parameters(), lr)\n",
    "\n",
    "    best_loss = float('inf')\n",
    "    best_model_state = None\n",
    "    no_improve_counter = 0\n",
    "\n",
    "    history = {\"loss\": [], \"accuracy\": []}\n",
    "\n",
    "    for e in range(epochs):\n",
    "        model.train()\n",
    "        total_loss = 0.0\n",
    "        correct = 0\n",
    "        total = 0\n",
    "\n",
    "        pbar = tqdm(train_dl, desc=f\"Epoch {e+1}/{epochs}\", leave=False)\n",
    "        for X, y in pbar:\n",
    "            X, y = X.to(device), y.to(device)\n",
    "\n",
    "            optimizer.zero_grad()\n",
    "            net_out = model(X)\n",
    "            loss = loss_func(net_out, y)\n",
    "            loss.backward()\n",
    "            optimizer.step()\n",
    "\n",
    "            total_loss += loss.item() * X.size(0)\n",
    "            preds = torch.argmax(net_out, dim=1)\n",
    "            correct += (preds == y).sum().item()\n",
    "            total += X.size(0)\n",
    "\n",
    "            pbar.set_postfix(loss=loss.item())\n",
    "\n",
    "        avg_loss = total_loss / total\n",
    "        acc = correct / total\n",
    "        history[\"loss\"].append(avg_loss)\n",
    "        history[\"accuracy\"].append(acc)\n",
    "\n",
    "        if info:\n",
    "            print(f\"Epoch {e+1:02d}/{epochs:02d} | Loss: {avg_loss:.4f} | Acc: {acc*100:.2f}%\")\n",
    "\n",
    "        # Early stopping check\n",
    "        if early_stop and val_dl is not None:\n",
    "            val_metrics = evaluate(model, val_dl, loss_func=loss_func, device=device, verbose=False)\n",
    "            val_loss = val_metrics[\"loss\"]\n",
    "\n",
    "            if val_loss < best_loss:\n",
    "                best_loss = val_loss\n",
    "                best_model_state = model.state_dict()\n",
    "                no_improve_counter = 0\n",
    "            else:\n",
    "                no_improve_counter += 1\n",
    "                if no_improve_counter >= patience:\n",
    "                    print(f\"\\nEarly stopping triggered at epoch {e+1}. Best val loss: {best_loss:.4f}\")\n",
    "                    if best_model_state:\n",
    "                        model.load_state_dict(best_model_state)\n",
    "                    break\n",
    "\n",
    "    return history\n",
    "\n"
   ]
  },
  {
   "cell_type": "code",
   "execution_count": 6,
   "id": "e3276687",
   "metadata": {},
   "outputs": [],
   "source": [
    "def predict(model, X_pred):\n",
    "    model.eval()\n",
    "    device=torch.device(\"cuda\" if torch.cuda.is_available() else \"cpu\")\n",
    "    with torch.no_grad():\n",
    "        if not isinstance(X_pred, torch.Tensor):\n",
    "            X_pred = torch.FloatTensor(X_pred)\n",
    "        X_pred = X_pred.to(gpu, non_blocking=True)\n",
    "        logits = model(X_pred)\n",
    "        y_pred = torch.argmax(logits, dim=1)\n",
    "    return y_pred.cpu().numpy()"
   ]
  },
  {
   "cell_type": "code",
   "execution_count": 7,
   "id": "c69b7955",
   "metadata": {},
   "outputs": [],
   "source": [
    "def build_model(params):\n",
    "\n",
    "    in_channels = params[\"in_channels\"]\n",
    "    out_channels = params[\"out_channels\"]\n",
    "    mid_channel = out_channels * 2\n",
    "    kernel_size = params[\"kernel_size\"]\n",
    "    stride = params[\"stride\"]\n",
    "    padding = params[\"padding\"]\n",
    "    h_neurons = params[\"h_neurons\"]\n",
    "\n",
    "    return nn.Sequential(\n",
    "    #1st Conv Layer\n",
    "    # Input: _bs*128*128*3\n",
    "    nn.Conv2d(in_channels, out_channels, kernel_size, stride, padding), # (_bs, 18, 64, 64)\n",
    "    nn.ReLU(inplace=True),\n",
    "    nn.MaxPool2d(2, 2), # (_bs, 18, 32, 32)\n",
    "\n",
    "    #2nd Conv Layer\n",
    "    nn.Conv2d(out_channels, mid_channel, kernel_size, stride, padding), #(_bs, 36, 16, 16)\n",
    "    nn.ReLU(inplace=True),\n",
    "    nn.MaxPool2d(2, 2), # (_bs, 36, 8, 8)\n",
    "\n",
    "    #Flattening for Linear Layer\n",
    "    nn.Flatten(), #(_bs, 36*8*8=2304)\n",
    "\n",
    "    #1st FC Layer\n",
    "    nn.Linear(mid_channel*8*8,  h_neurons), \n",
    "    nn.ReLU(inplace=True),\n",
    "\n",
    "    nn.Dropout(0.5),\n",
    "\n",
    "    #Final FC Layer\n",
    "    nn.Linear(h_neurons, 6) # 6 class labels\n",
    "     \n",
    "    )"
   ]
  },
  {
   "cell_type": "code",
   "execution_count": 8,
   "id": "2227e708",
   "metadata": {},
   "outputs": [],
   "source": [
    "def evaluate_with_seed_variance(params, train_dl, test_dl, label_names=None, num_runs=5, device='cuda'):\n",
    "    accuracies = []\n",
    "    all_f1s = []\n",
    "\n",
    "    for seed in [42 + i for i in range(num_runs)]:\n",
    "        print(f\"\\nRun {seed}:\")\n",
    "\n",
    "        # Variable Seed\n",
    "        torch.manual_seed(seed)\n",
    "        np.random.seed(seed)\n",
    "\n",
    "        # New Model\n",
    "        model = build_model(params).to(device)\n",
    "\n",
    "        # Train \n",
    "        fit(model, train_dl, lr=0.001, epochs=10, info=True)\n",
    "\n",
    "        # Eval\n",
    "        metrics = evaluate(model, test_dl, loss_func=torch.nn.CrossEntropyLoss(), label_names=label_names, verbose=False)\n",
    "        acc = metrics[\"accuracy\"]\n",
    "        preds = metrics[\"preds\"]\n",
    "        labels = metrics[\"labels\"]\n",
    "\n",
    "        accuracies.append(acc)\n",
    "\n",
    "        # F1-score per class\n",
    "        _, _, f1, _ = precision_recall_fscore_support(labels, preds, labels=list(range(len(label_names))), zero_division=0)\n",
    "        all_f1s.append(f1)\n",
    "\n",
    "    # Summary\n",
    "    mean_acc = np.mean(accuracies)\n",
    "    std_acc = np.std(accuracies)\n",
    "\n",
    "    print(f\"\\nSummary for {num_runs} Runs\")\n",
    "    print(f\"Mean Accuracy: {mean_acc * 100:.2f}%\")\n",
    "    print(f\"Accuracy Std Dev: {std_acc * 100:.2f}%\")\n",
    "\n",
    "    if label_names:\n",
    "        all_f1s = np.stack(all_f1s)  \n",
    "        f1_std = np.std(all_f1s, axis=0)\n",
    "\n",
    "        print(\"\\nPer-Class F1-Score Std Dev:\")\n",
    "        for cname, std in zip(label_names, f1_std):\n",
    "            print(f\"  {cname}: ±{std:.4f}\")\n"
   ]
  },
  {
   "cell_type": "markdown",
   "id": "70fdd7fe",
   "metadata": {},
   "source": [
    "### ^ Helper Functions\n",
    "--------------------------------------------------------------------------------------------------------------------------------------------------------------------------------------------------------------------------------------\n",
    "# #1 Create a CNN.  Train on testing portion of dataset.  Report performance.\n"
   ]
  },
  {
   "cell_type": "markdown",
   "id": "4b75ab8a",
   "metadata": {},
   "source": [
    "# CNN Training"
   ]
  },
  {
   "cell_type": "code",
   "execution_count": null,
   "id": "6d239c36",
   "metadata": {},
   "outputs": [],
   "source": [
    "train_dl, val_dl, test_dl = get_dataloader(\n",
    "    _img_size=128, \n",
    "    _bs=128, \n",
    "    _path=\"\") ## < Input file path"
   ]
  },
  {
   "cell_type": "code",
   "execution_count": 10,
   "id": "db760711",
   "metadata": {},
   "outputs": [],
   "source": [
    "input_dim = 128 * 128 * 3\n",
    "in_channels = 3\n",
    "out_channels = 18\n",
    "kernel_size = 5\n",
    "stride = 2\n",
    "padding = 2\n"
   ]
  },
  {
   "cell_type": "code",
   "execution_count": 11,
   "id": "d2a1cd4f",
   "metadata": {},
   "outputs": [],
   "source": [
    "model = nn.Sequential(\n",
    "    # Input: _bs*128*128*3\n",
    "    nn.Conv2d(in_channels, out_channels, kernel_size, stride, padding), # (_bs, 18, 64, 64)\n",
    "    nn.ReLU(inplace=True),\n",
    "    nn.MaxPool2d(2, 2), # (_bs, 18, 32, 32)\n",
    "\n",
    "    nn.Conv2d(out_channels, out_channels*2, kernel_size, stride, padding), #(_bs, 36, 16, 16)\n",
    "    nn.ReLU(inplace=True),\n",
    "    nn.MaxPool2d(2, 2), # (_bs, 36, 8, 8)\n",
    "\n",
    "    nn.Flatten(), #(_bs, 36*8*8=2304)\n",
    "\n",
    "    nn.Linear(out_channels*2*8*8,  6) #6 class labels\n",
    ").to(gpu)"
   ]
  },
  {
   "cell_type": "code",
   "execution_count": 12,
   "id": "22b1346e",
   "metadata": {},
   "outputs": [
    {
     "name": "stderr",
     "output_type": "stream",
     "text": [
      "                                                                       \r"
     ]
    },
    {
     "name": "stdout",
     "output_type": "stream",
     "text": [
      "Epoch 01/10 | Loss: 1.4095 | Acc: 45.22%\n"
     ]
    },
    {
     "name": "stderr",
     "output_type": "stream",
     "text": [
      "                                                                       \r"
     ]
    },
    {
     "name": "stdout",
     "output_type": "stream",
     "text": [
      "Epoch 02/10 | Loss: 1.1476 | Acc: 55.22%\n"
     ]
    },
    {
     "name": "stderr",
     "output_type": "stream",
     "text": [
      "                                                                       \r"
     ]
    },
    {
     "name": "stdout",
     "output_type": "stream",
     "text": [
      "Epoch 03/10 | Loss: 0.9758 | Acc: 62.48%\n"
     ]
    },
    {
     "name": "stderr",
     "output_type": "stream",
     "text": [
      "                                                                       \r"
     ]
    },
    {
     "name": "stdout",
     "output_type": "stream",
     "text": [
      "Epoch 04/10 | Loss: 0.9006 | Acc: 65.93%\n"
     ]
    },
    {
     "name": "stderr",
     "output_type": "stream",
     "text": [
      "                                                                       \r"
     ]
    },
    {
     "name": "stdout",
     "output_type": "stream",
     "text": [
      "Epoch 05/10 | Loss: 0.9171 | Acc: 64.70%\n"
     ]
    },
    {
     "name": "stderr",
     "output_type": "stream",
     "text": [
      "                                                                       \r"
     ]
    },
    {
     "name": "stdout",
     "output_type": "stream",
     "text": [
      "Epoch 06/10 | Loss: 0.8330 | Acc: 69.11%\n"
     ]
    },
    {
     "name": "stderr",
     "output_type": "stream",
     "text": [
      "                                                                       \r"
     ]
    },
    {
     "name": "stdout",
     "output_type": "stream",
     "text": [
      "Epoch 07/10 | Loss: 0.7618 | Acc: 72.37%\n"
     ]
    },
    {
     "name": "stderr",
     "output_type": "stream",
     "text": [
      "                                                                       \r"
     ]
    },
    {
     "name": "stdout",
     "output_type": "stream",
     "text": [
      "Epoch 08/10 | Loss: 0.7312 | Acc: 73.07%\n"
     ]
    },
    {
     "name": "stderr",
     "output_type": "stream",
     "text": [
      "                                                                       \r"
     ]
    },
    {
     "name": "stdout",
     "output_type": "stream",
     "text": [
      "Epoch 09/10 | Loss: 0.7235 | Acc: 74.07%\n"
     ]
    },
    {
     "name": "stderr",
     "output_type": "stream",
     "text": [
      "                                                                        "
     ]
    },
    {
     "name": "stdout",
     "output_type": "stream",
     "text": [
      "Epoch 10/10 | Loss: 0.6711 | Acc: 76.00%\n"
     ]
    },
    {
     "name": "stderr",
     "output_type": "stream",
     "text": [
      "\r"
     ]
    }
   ],
   "source": [
    "history = fit(model, train_dl, lr=0.001, epochs=10, info=True)"
   ]
  },
  {
   "cell_type": "markdown",
   "id": "1f1c7013",
   "metadata": {},
   "source": [
    "# Evaluate Model"
   ]
  },
  {
   "cell_type": "code",
   "execution_count": 13,
   "id": "4daf8622",
   "metadata": {},
   "outputs": [
    {
     "name": "stdout",
     "output_type": "stream",
     "text": [
      "\n",
      "--- Train Performance ---\n",
      "Accuracy: 78.67%\n",
      "Avg Loss: 0.6132\n",
      "\n",
      "Classification Report:\n",
      "              precision    recall  f1-score   support\n",
      "\n",
      "   buildings       0.74      0.75      0.75       381\n",
      "      forest       0.86      0.95      0.90       429\n",
      "     glacier       0.76      0.76      0.76       500\n",
      "    mountain       0.74      0.76      0.75       476\n",
      "         sea       0.74      0.70      0.72       460\n",
      "      street       0.88      0.81      0.84       454\n",
      "\n",
      "    accuracy                           0.79      2700\n",
      "   macro avg       0.79      0.79      0.79      2700\n",
      "weighted avg       0.79      0.79      0.79      2700\n",
      "\n",
      "Confusion Matrix:\n",
      "[[285  23  15  19   9  30]\n",
      " [ 11 406   1   2   0   9]\n",
      " [ 12   3 380  45  54   6]\n",
      " [ 16   3  43 364  48   2]\n",
      " [ 22   5  51  56 322   4]\n",
      " [ 38  31   9   6   3 367]]\n",
      "\n",
      "--- Test Performance ---\n",
      "Accuracy: 70.60%\n",
      "Avg Loss: 0.8118\n",
      "\n",
      "Classification Report:\n",
      "              precision    recall  f1-score   support\n",
      "\n",
      "   buildings       0.66      0.64      0.65      2191\n",
      "      forest       0.81      0.93      0.87      2271\n",
      "     glacier       0.69      0.69      0.69      2404\n",
      "    mountain       0.64      0.67      0.66      2512\n",
      "         sea       0.64      0.61      0.63      2274\n",
      "      street       0.79      0.69      0.74      2382\n",
      "\n",
      "    accuracy                           0.71     14034\n",
      "   macro avg       0.71      0.71      0.70     14034\n",
      "weighted avg       0.71      0.71      0.70     14034\n",
      "\n",
      "Confusion Matrix:\n",
      "[[1408  153  139  160   70  261]\n",
      " [  47 2101    4   23    8   88]\n",
      " [  61   24 1668  283  327   41]\n",
      " [ 128   15  304 1687  356   22]\n",
      " [ 122   24  275  421 1398   34]\n",
      " [ 366  263   44   43   20 1646]]\n"
     ]
    }
   ],
   "source": [
    "loss_func = nn.CrossEntropyLoss()\n",
    "label_names = test_dl.dataset.classes\n",
    "\n",
    "train_metrics = evaluate(model, train_dl, loss_func=loss_func, label_names=label_names, set_name=\"Train\")\n",
    "\n",
    "test_metrics = evaluate(model, test_dl, loss_func=loss_func, label_names=label_names, set_name=\"Test\")"
   ]
  },
  {
   "cell_type": "markdown",
   "id": "6748d91d",
   "metadata": {},
   "source": [
    "# #2: Add in regularization and/or drop-out"
   ]
  },
  {
   "cell_type": "code",
   "execution_count": 14,
   "id": "1456b7b4",
   "metadata": {},
   "outputs": [],
   "source": [
    "train_dl, val_dl, test_dl = get_dataloader(\n",
    "    _img_size=128, \n",
    "    _bs=128, \n",
    "    _path=\"C:/Users/nelan/EN705_ML/Datasets/Mod13\")\n",
    "\n",
    "input_dim = 128 * 128 * 3\n",
    "in_channels = 3\n",
    "out_channels = 18\n",
    "kernel_size = 5\n",
    "stride = 2\n",
    "padding = 2\n",
    "h_neurons = 512"
   ]
  },
  {
   "cell_type": "code",
   "execution_count": 15,
   "id": "ccb8a666",
   "metadata": {},
   "outputs": [],
   "source": [
    "model = nn.Sequential(\n",
    "    #1st Conv Layer\n",
    "    # Input: _bs*128*128*3\n",
    "    nn.Conv2d(in_channels, out_channels, kernel_size, stride, padding), # (_bs, 18, 64, 64)\n",
    "    nn.ReLU(inplace=True),\n",
    "    nn.MaxPool2d(2, 2), # (_bs, 18, 32, 32)\n",
    "\n",
    "    #2nd Conv Layer\n",
    "    nn.Conv2d(out_channels, out_channels*2, kernel_size, stride, padding), #(_bs, 36, 16, 16)\n",
    "    nn.ReLU(inplace=True),\n",
    "    nn.MaxPool2d(2, 2), # (_bs, 36, 8, 8)\n",
    "\n",
    "    #Flattening for Linear Layer\n",
    "    nn.Flatten(), #(_bs, 36*8*8=2304)\n",
    "\n",
    "    #1st FC Layer\n",
    "    nn.Linear(out_channels*2*8*8,  h_neurons), \n",
    "    nn.ReLU(inplace=True),\n",
    "\n",
    "    nn.Dropout(0.5),\n",
    "\n",
    "    #Final FC Layer\n",
    "    nn.Linear(h_neurons, 6) # 6 class labels\n",
    "     \n",
    ").to(gpu)"
   ]
  },
  {
   "cell_type": "code",
   "execution_count": 16,
   "id": "76453793",
   "metadata": {},
   "outputs": [
    {
     "name": "stderr",
     "output_type": "stream",
     "text": [
      "                                                                      \r"
     ]
    },
    {
     "name": "stdout",
     "output_type": "stream",
     "text": [
      "Epoch 01/10 | Loss: 1.4426 | Acc: 41.52%\n"
     ]
    },
    {
     "name": "stderr",
     "output_type": "stream",
     "text": [
      "                                                                      \r"
     ]
    },
    {
     "name": "stdout",
     "output_type": "stream",
     "text": [
      "Epoch 02/10 | Loss: 1.1529 | Acc: 54.67%\n"
     ]
    },
    {
     "name": "stderr",
     "output_type": "stream",
     "text": [
      "                                                                       \r"
     ]
    },
    {
     "name": "stdout",
     "output_type": "stream",
     "text": [
      "Epoch 03/10 | Loss: 0.9797 | Acc: 61.11%\n"
     ]
    },
    {
     "name": "stderr",
     "output_type": "stream",
     "text": [
      "                                                                       \r"
     ]
    },
    {
     "name": "stdout",
     "output_type": "stream",
     "text": [
      "Epoch 04/10 | Loss: 0.8914 | Acc: 65.22%\n"
     ]
    },
    {
     "name": "stderr",
     "output_type": "stream",
     "text": [
      "                                                                       \r"
     ]
    },
    {
     "name": "stdout",
     "output_type": "stream",
     "text": [
      "Epoch 05/10 | Loss: 0.8942 | Acc: 66.33%\n"
     ]
    },
    {
     "name": "stderr",
     "output_type": "stream",
     "text": [
      "                                                                       \r"
     ]
    },
    {
     "name": "stdout",
     "output_type": "stream",
     "text": [
      "Epoch 06/10 | Loss: 0.8175 | Acc: 69.37%\n"
     ]
    },
    {
     "name": "stderr",
     "output_type": "stream",
     "text": [
      "                                                                       \r"
     ]
    },
    {
     "name": "stdout",
     "output_type": "stream",
     "text": [
      "Epoch 07/10 | Loss: 0.7607 | Acc: 71.11%\n"
     ]
    },
    {
     "name": "stderr",
     "output_type": "stream",
     "text": [
      "                                                                       \r"
     ]
    },
    {
     "name": "stdout",
     "output_type": "stream",
     "text": [
      "Epoch 08/10 | Loss: 0.7091 | Acc: 73.96%\n"
     ]
    },
    {
     "name": "stderr",
     "output_type": "stream",
     "text": [
      "                                                                       \r"
     ]
    },
    {
     "name": "stdout",
     "output_type": "stream",
     "text": [
      "Epoch 09/10 | Loss: 0.7055 | Acc: 73.41%\n"
     ]
    },
    {
     "name": "stderr",
     "output_type": "stream",
     "text": [
      "                                                                        \r"
     ]
    },
    {
     "name": "stdout",
     "output_type": "stream",
     "text": [
      "Epoch 10/10 | Loss: 0.6439 | Acc: 76.30%\n"
     ]
    }
   ],
   "source": [
    "history = fit(model, train_dl, lr=0.001, epochs=10, info=True, early_stop=True, val_dl=val_dl)"
   ]
  },
  {
   "cell_type": "code",
   "execution_count": 17,
   "id": "9ddce398",
   "metadata": {},
   "outputs": [
    {
     "name": "stdout",
     "output_type": "stream",
     "text": [
      "\n",
      "--- Train Performance ---\n",
      "Accuracy: 80.89%\n",
      "Avg Loss: 0.5455\n",
      "\n",
      "Classification Report:\n",
      "              precision    recall  f1-score   support\n",
      "\n",
      "   buildings       0.80      0.79      0.80       393\n",
      "      forest       0.93      0.92      0.93       427\n",
      "     glacier       0.81      0.76      0.79       492\n",
      "    mountain       0.79      0.69      0.74       475\n",
      "         sea       0.68      0.84      0.75       463\n",
      "      street       0.88      0.86      0.87       450\n",
      "\n",
      "    accuracy                           0.81      2700\n",
      "   macro avg       0.82      0.81      0.81      2700\n",
      "weighted avg       0.81      0.81      0.81      2700\n",
      "\n",
      "Confusion Matrix:\n",
      "[[311  12   9  15  18  28]\n",
      " [  9 393   1   2   2  20]\n",
      " [  7   2 375  34  70   4]\n",
      " [ 10   1  44 329  91   0]\n",
      " [ 12   0  27  33 391   0]\n",
      " [ 38  13   5   5   4 385]]\n",
      "\n",
      "--- Test Performance ---\n",
      "Accuracy: 71.85%\n",
      "Avg Loss: 0.7718\n",
      "\n",
      "Classification Report:\n",
      "              precision    recall  f1-score   support\n",
      "\n",
      "   buildings       0.69      0.67      0.68      2191\n",
      "      forest       0.88      0.90      0.89      2271\n",
      "     glacier       0.74      0.66      0.70      2404\n",
      "    mountain       0.70      0.60      0.65      2512\n",
      "         sea       0.55      0.74      0.63      2274\n",
      "      street       0.80      0.74      0.77      2382\n",
      "\n",
      "    accuracy                           0.72     14034\n",
      "   macro avg       0.73      0.72      0.72     14034\n",
      "weighted avg       0.73      0.72      0.72     14034\n",
      "\n",
      "Confusion Matrix:\n",
      "[[1459   99   87  117  172  257]\n",
      " [  59 2051    6   24   13  118]\n",
      " [  42   18 1594  190  541   19]\n",
      " [ 120    9  270 1515  584   14]\n",
      " [  96    7  162  290 1693   26]\n",
      " [ 352  135   35   33   56 1771]]\n"
     ]
    }
   ],
   "source": [
    "loss_func = nn.CrossEntropyLoss()\n",
    "label_names = test_dl.dataset.classes\n",
    "\n",
    "train_metrics = evaluate(model, train_dl, loss_func=loss_func, label_names=label_names, set_name=\"Train\")\n",
    "\n",
    "test_metrics = evaluate(model, test_dl, loss_func=loss_func, label_names=label_names, set_name=\"Test\")"
   ]
  },
  {
   "cell_type": "markdown",
   "id": "57966dc8",
   "metadata": {},
   "source": [
    "### Check performance standard deviation and comment on its indication of robustness"
   ]
  },
  {
   "cell_type": "code",
   "execution_count": 18,
   "id": "d19fc530",
   "metadata": {},
   "outputs": [
    {
     "name": "stdout",
     "output_type": "stream",
     "text": [
      "\n",
      "Run 42:\n"
     ]
    },
    {
     "name": "stderr",
     "output_type": "stream",
     "text": [
      "                                                                      \r"
     ]
    },
    {
     "name": "stdout",
     "output_type": "stream",
     "text": [
      "Epoch 01/10 | Loss: 1.4252 | Acc: 43.67%\n"
     ]
    },
    {
     "name": "stderr",
     "output_type": "stream",
     "text": [
      "                                                                       \r"
     ]
    },
    {
     "name": "stdout",
     "output_type": "stream",
     "text": [
      "Epoch 02/10 | Loss: 1.0879 | Acc: 57.93%\n"
     ]
    },
    {
     "name": "stderr",
     "output_type": "stream",
     "text": [
      "                                                                       \r"
     ]
    },
    {
     "name": "stdout",
     "output_type": "stream",
     "text": [
      "Epoch 03/10 | Loss: 0.9591 | Acc: 61.78%\n"
     ]
    },
    {
     "name": "stderr",
     "output_type": "stream",
     "text": [
      "                                                                       \r"
     ]
    },
    {
     "name": "stdout",
     "output_type": "stream",
     "text": [
      "Epoch 04/10 | Loss: 0.9284 | Acc: 62.44%\n"
     ]
    },
    {
     "name": "stderr",
     "output_type": "stream",
     "text": [
      "                                                                       \r"
     ]
    },
    {
     "name": "stdout",
     "output_type": "stream",
     "text": [
      "Epoch 05/10 | Loss: 0.8561 | Acc: 66.96%\n"
     ]
    },
    {
     "name": "stderr",
     "output_type": "stream",
     "text": [
      "                                                                       \r"
     ]
    },
    {
     "name": "stdout",
     "output_type": "stream",
     "text": [
      "Epoch 06/10 | Loss: 0.7982 | Acc: 70.22%\n"
     ]
    },
    {
     "name": "stderr",
     "output_type": "stream",
     "text": [
      "                                                                       \r"
     ]
    },
    {
     "name": "stdout",
     "output_type": "stream",
     "text": [
      "Epoch 07/10 | Loss: 0.7758 | Acc: 71.52%\n"
     ]
    },
    {
     "name": "stderr",
     "output_type": "stream",
     "text": [
      "                                                                       \r"
     ]
    },
    {
     "name": "stdout",
     "output_type": "stream",
     "text": [
      "Epoch 08/10 | Loss: 0.7088 | Acc: 74.07%\n"
     ]
    },
    {
     "name": "stderr",
     "output_type": "stream",
     "text": [
      "                                                                       \r"
     ]
    },
    {
     "name": "stdout",
     "output_type": "stream",
     "text": [
      "Epoch 09/10 | Loss: 0.6477 | Acc: 76.52%\n"
     ]
    },
    {
     "name": "stderr",
     "output_type": "stream",
     "text": [
      "                                                                        \r"
     ]
    },
    {
     "name": "stdout",
     "output_type": "stream",
     "text": [
      "Epoch 10/10 | Loss: 0.6256 | Acc: 77.26%\n",
      "\n",
      "Run 43:\n"
     ]
    },
    {
     "name": "stderr",
     "output_type": "stream",
     "text": [
      "                                                                      \r"
     ]
    },
    {
     "name": "stdout",
     "output_type": "stream",
     "text": [
      "Epoch 01/10 | Loss: 1.4311 | Acc: 44.33%\n"
     ]
    },
    {
     "name": "stderr",
     "output_type": "stream",
     "text": [
      "                                                                       \r"
     ]
    },
    {
     "name": "stdout",
     "output_type": "stream",
     "text": [
      "Epoch 02/10 | Loss: 1.1248 | Acc: 55.85%\n"
     ]
    },
    {
     "name": "stderr",
     "output_type": "stream",
     "text": [
      "                                                                       \r"
     ]
    },
    {
     "name": "stdout",
     "output_type": "stream",
     "text": [
      "Epoch 03/10 | Loss: 0.9876 | Acc: 60.30%\n"
     ]
    },
    {
     "name": "stderr",
     "output_type": "stream",
     "text": [
      "                                                                       \r"
     ]
    },
    {
     "name": "stdout",
     "output_type": "stream",
     "text": [
      "Epoch 04/10 | Loss: 0.9154 | Acc: 64.63%\n"
     ]
    },
    {
     "name": "stderr",
     "output_type": "stream",
     "text": [
      "                                                                       \r"
     ]
    },
    {
     "name": "stdout",
     "output_type": "stream",
     "text": [
      "Epoch 05/10 | Loss: 0.8450 | Acc: 68.07%\n"
     ]
    },
    {
     "name": "stderr",
     "output_type": "stream",
     "text": [
      "                                                                       \r"
     ]
    },
    {
     "name": "stdout",
     "output_type": "stream",
     "text": [
      "Epoch 06/10 | Loss: 0.7994 | Acc: 70.15%\n"
     ]
    },
    {
     "name": "stderr",
     "output_type": "stream",
     "text": [
      "                                                                       \r"
     ]
    },
    {
     "name": "stdout",
     "output_type": "stream",
     "text": [
      "Epoch 07/10 | Loss: 0.7395 | Acc: 72.81%\n"
     ]
    },
    {
     "name": "stderr",
     "output_type": "stream",
     "text": [
      "                                                                       \r"
     ]
    },
    {
     "name": "stdout",
     "output_type": "stream",
     "text": [
      "Epoch 08/10 | Loss: 0.6840 | Acc: 74.81%\n"
     ]
    },
    {
     "name": "stderr",
     "output_type": "stream",
     "text": [
      "                                                                       \r"
     ]
    },
    {
     "name": "stdout",
     "output_type": "stream",
     "text": [
      "Epoch 09/10 | Loss: 0.6503 | Acc: 76.22%\n"
     ]
    },
    {
     "name": "stderr",
     "output_type": "stream",
     "text": [
      "                                                                        \r"
     ]
    },
    {
     "name": "stdout",
     "output_type": "stream",
     "text": [
      "Epoch 10/10 | Loss: 0.6311 | Acc: 77.26%\n",
      "\n",
      "Run 44:\n"
     ]
    },
    {
     "name": "stderr",
     "output_type": "stream",
     "text": [
      "                                                                      \r"
     ]
    },
    {
     "name": "stdout",
     "output_type": "stream",
     "text": [
      "Epoch 01/10 | Loss: 1.4540 | Acc: 44.00%\n"
     ]
    },
    {
     "name": "stderr",
     "output_type": "stream",
     "text": [
      "                                                                      \r"
     ]
    },
    {
     "name": "stdout",
     "output_type": "stream",
     "text": [
      "Epoch 02/10 | Loss: 1.1612 | Acc: 55.89%\n"
     ]
    },
    {
     "name": "stderr",
     "output_type": "stream",
     "text": [
      "                                                                       \r"
     ]
    },
    {
     "name": "stdout",
     "output_type": "stream",
     "text": [
      "Epoch 03/10 | Loss: 0.9893 | Acc: 63.04%\n"
     ]
    },
    {
     "name": "stderr",
     "output_type": "stream",
     "text": [
      "                                                                       \r"
     ]
    },
    {
     "name": "stdout",
     "output_type": "stream",
     "text": [
      "Epoch 04/10 | Loss: 0.9023 | Acc: 65.89%\n"
     ]
    },
    {
     "name": "stderr",
     "output_type": "stream",
     "text": [
      "                                                                       \r"
     ]
    },
    {
     "name": "stdout",
     "output_type": "stream",
     "text": [
      "Epoch 05/10 | Loss: 0.8741 | Acc: 66.04%\n"
     ]
    },
    {
     "name": "stderr",
     "output_type": "stream",
     "text": [
      "                                                                       \r"
     ]
    },
    {
     "name": "stdout",
     "output_type": "stream",
     "text": [
      "Epoch 06/10 | Loss: 0.8151 | Acc: 70.19%\n"
     ]
    },
    {
     "name": "stderr",
     "output_type": "stream",
     "text": [
      "                                                                       \r"
     ]
    },
    {
     "name": "stdout",
     "output_type": "stream",
     "text": [
      "Epoch 07/10 | Loss: 0.7844 | Acc: 71.37%\n"
     ]
    },
    {
     "name": "stderr",
     "output_type": "stream",
     "text": [
      "                                                                       \r"
     ]
    },
    {
     "name": "stdout",
     "output_type": "stream",
     "text": [
      "Epoch 08/10 | Loss: 0.7222 | Acc: 73.56%\n"
     ]
    },
    {
     "name": "stderr",
     "output_type": "stream",
     "text": [
      "                                                                       \r"
     ]
    },
    {
     "name": "stdout",
     "output_type": "stream",
     "text": [
      "Epoch 09/10 | Loss: 0.6709 | Acc: 75.48%\n"
     ]
    },
    {
     "name": "stderr",
     "output_type": "stream",
     "text": [
      "                                                                        \r"
     ]
    },
    {
     "name": "stdout",
     "output_type": "stream",
     "text": [
      "Epoch 10/10 | Loss: 0.6540 | Acc: 76.89%\n",
      "\n",
      "Run 45:\n"
     ]
    },
    {
     "name": "stderr",
     "output_type": "stream",
     "text": [
      "                                                                      \r"
     ]
    },
    {
     "name": "stdout",
     "output_type": "stream",
     "text": [
      "Epoch 01/10 | Loss: 1.4114 | Acc: 44.67%\n"
     ]
    },
    {
     "name": "stderr",
     "output_type": "stream",
     "text": [
      "                                                                       \r"
     ]
    },
    {
     "name": "stdout",
     "output_type": "stream",
     "text": [
      "Epoch 02/10 | Loss: 1.1225 | Acc: 57.19%\n"
     ]
    },
    {
     "name": "stderr",
     "output_type": "stream",
     "text": [
      "                                                                       \r"
     ]
    },
    {
     "name": "stdout",
     "output_type": "stream",
     "text": [
      "Epoch 03/10 | Loss: 0.9431 | Acc: 64.15%\n"
     ]
    },
    {
     "name": "stderr",
     "output_type": "stream",
     "text": [
      "                                                                       \r"
     ]
    },
    {
     "name": "stdout",
     "output_type": "stream",
     "text": [
      "Epoch 04/10 | Loss: 0.8745 | Acc: 68.00%\n"
     ]
    },
    {
     "name": "stderr",
     "output_type": "stream",
     "text": [
      "                                                                       \r"
     ]
    },
    {
     "name": "stdout",
     "output_type": "stream",
     "text": [
      "Epoch 05/10 | Loss: 0.8186 | Acc: 69.63%\n"
     ]
    },
    {
     "name": "stderr",
     "output_type": "stream",
     "text": [
      "                                                                       \r"
     ]
    },
    {
     "name": "stdout",
     "output_type": "stream",
     "text": [
      "Epoch 06/10 | Loss: 0.7832 | Acc: 71.56%\n"
     ]
    },
    {
     "name": "stderr",
     "output_type": "stream",
     "text": [
      "                                                                       \r"
     ]
    },
    {
     "name": "stdout",
     "output_type": "stream",
     "text": [
      "Epoch 07/10 | Loss: 0.7486 | Acc: 72.63%\n"
     ]
    },
    {
     "name": "stderr",
     "output_type": "stream",
     "text": [
      "                                                                       \r"
     ]
    },
    {
     "name": "stdout",
     "output_type": "stream",
     "text": [
      "Epoch 08/10 | Loss: 0.6709 | Acc: 76.19%\n"
     ]
    },
    {
     "name": "stderr",
     "output_type": "stream",
     "text": [
      "                                                                       \r"
     ]
    },
    {
     "name": "stdout",
     "output_type": "stream",
     "text": [
      "Epoch 09/10 | Loss: 0.6395 | Acc: 77.30%\n"
     ]
    },
    {
     "name": "stderr",
     "output_type": "stream",
     "text": [
      "                                                                        \r"
     ]
    },
    {
     "name": "stdout",
     "output_type": "stream",
     "text": [
      "Epoch 10/10 | Loss: 0.5861 | Acc: 79.67%\n",
      "\n",
      "Run 46:\n"
     ]
    },
    {
     "name": "stderr",
     "output_type": "stream",
     "text": [
      "                                                                       \r"
     ]
    },
    {
     "name": "stdout",
     "output_type": "stream",
     "text": [
      "Epoch 01/10 | Loss: 1.3677 | Acc: 45.63%\n"
     ]
    },
    {
     "name": "stderr",
     "output_type": "stream",
     "text": [
      "                                                                       \r"
     ]
    },
    {
     "name": "stdout",
     "output_type": "stream",
     "text": [
      "Epoch 02/10 | Loss: 1.1156 | Acc: 55.70%\n"
     ]
    },
    {
     "name": "stderr",
     "output_type": "stream",
     "text": [
      "                                                                       \r"
     ]
    },
    {
     "name": "stdout",
     "output_type": "stream",
     "text": [
      "Epoch 03/10 | Loss: 0.9726 | Acc: 63.52%\n"
     ]
    },
    {
     "name": "stderr",
     "output_type": "stream",
     "text": [
      "                                                                       \r"
     ]
    },
    {
     "name": "stdout",
     "output_type": "stream",
     "text": [
      "Epoch 04/10 | Loss: 0.8975 | Acc: 65.44%\n"
     ]
    },
    {
     "name": "stderr",
     "output_type": "stream",
     "text": [
      "                                                                       \r"
     ]
    },
    {
     "name": "stdout",
     "output_type": "stream",
     "text": [
      "Epoch 05/10 | Loss: 0.8202 | Acc: 69.22%\n"
     ]
    },
    {
     "name": "stderr",
     "output_type": "stream",
     "text": [
      "                                                                       \r"
     ]
    },
    {
     "name": "stdout",
     "output_type": "stream",
     "text": [
      "Epoch 06/10 | Loss: 0.8159 | Acc: 69.41%\n"
     ]
    },
    {
     "name": "stderr",
     "output_type": "stream",
     "text": [
      "                                                                       \r"
     ]
    },
    {
     "name": "stdout",
     "output_type": "stream",
     "text": [
      "Epoch 07/10 | Loss: 0.7485 | Acc: 73.22%\n"
     ]
    },
    {
     "name": "stderr",
     "output_type": "stream",
     "text": [
      "                                                                       \r"
     ]
    },
    {
     "name": "stdout",
     "output_type": "stream",
     "text": [
      "Epoch 08/10 | Loss: 0.7165 | Acc: 74.22%\n"
     ]
    },
    {
     "name": "stderr",
     "output_type": "stream",
     "text": [
      "                                                                       \r"
     ]
    },
    {
     "name": "stdout",
     "output_type": "stream",
     "text": [
      "Epoch 09/10 | Loss: 0.7399 | Acc: 72.52%\n"
     ]
    },
    {
     "name": "stderr",
     "output_type": "stream",
     "text": [
      "                                                                        \r"
     ]
    },
    {
     "name": "stdout",
     "output_type": "stream",
     "text": [
      "Epoch 10/10 | Loss: 0.6520 | Acc: 75.93%\n",
      "\n",
      "Summary for 5 Runs\n",
      "Mean Accuracy: 70.30%\n",
      "Accuracy Std Dev: 0.38%\n",
      "\n",
      "Per-Class F1-Score Std Dev:\n",
      "  buildings: ±0.0233\n",
      "  forest: ±0.0239\n",
      "  glacier: ±0.0175\n",
      "  mountain: ±0.0076\n",
      "  sea: ±0.0120\n",
      "  street: ±0.0305\n"
     ]
    }
   ],
   "source": [
    "params = {\n",
    "    'input_dim' : 128 * 128 * 3,\n",
    "    'in_channels' : 3,\n",
    "    'out_channels' : 18,\n",
    "    'kernel_size' : 5,\n",
    "    'stride' : 2,\n",
    "    'padding' : 2,\n",
    "    'h_neurons' : 512\n",
    "}\n",
    "\n",
    "evaluate_with_seed_variance(params, train_dl, test_dl, label_names)"
   ]
  },
  {
   "cell_type": "markdown",
   "id": "888dd6fd",
   "metadata": {},
   "source": [
    "### Commentary:  The low performance standard deviation is indicative of a higher global robustness.  If the standard deviation was higher, it would be indicative of the model \"accidentally\" performing well due to initialization or data order.  The low \"per-class\" f1 score std deviation suggests that each class is being learned consistently across runs without class-specific instability."
   ]
  },
  {
   "cell_type": "markdown",
   "id": "3897d8fe",
   "metadata": {},
   "source": [
    "# #3 Add batch normalization and early stopping."
   ]
  },
  {
   "cell_type": "code",
   "execution_count": 19,
   "id": "5b0ad2a0",
   "metadata": {},
   "outputs": [],
   "source": [
    "train_dl, val_dl, test_dl = get_dataloader(\n",
    "    _img_size=128, \n",
    "    _bs=128, \n",
    "    _path=\"C:/Users/nelan/EN705_ML/Datasets/Mod13\")\n",
    "\n",
    "input_dim = 128 * 128 * 3\n",
    "in_channels = 3\n",
    "out_channels = 18\n",
    "kernel_size = 5\n",
    "stride = 2\n",
    "padding = 2\n",
    "h_neurons = 512"
   ]
  },
  {
   "cell_type": "code",
   "execution_count": 20,
   "id": "4741a0ac",
   "metadata": {},
   "outputs": [],
   "source": [
    "model = nn.Sequential(\n",
    "    #1st Conv Layer\n",
    "    # Input: _bs*128*128*3\n",
    "    nn.Conv2d(in_channels, out_channels, kernel_size, stride, padding), # (_bs, 18, 64, 64)\n",
    "    nn.BatchNorm2d(out_channels),\n",
    "    nn.ReLU(inplace=True),\n",
    "    nn.MaxPool2d(2, 2), # (_bs, 18, 32, 32)\n",
    "\n",
    "\n",
    "    #2nd Conv Layer\n",
    "    nn.Conv2d(out_channels, out_channels*2, kernel_size, stride, padding), #(_bs, 36, 16, 16)\n",
    "    nn.BatchNorm2d(out_channels*2),\n",
    "    nn.ReLU(inplace=True),\n",
    "    nn.MaxPool2d(2, 2), # (_bs, 36, 8, 8)\n",
    "\n",
    "    #Flattening for Linear Layer\n",
    "    nn.Flatten(), #(_bs, 36*8*8=2304)\n",
    "\n",
    "    #1st FC Layer\n",
    "    nn.Linear(out_channels*2*8*8,  h_neurons), \n",
    "    nn.ReLU(inplace=True),\n",
    "\n",
    "    nn.Dropout(0.5),\n",
    "\n",
    "    #Final FC Layer\n",
    "    nn.Linear(h_neurons, 6) # 6 class labels\n",
    "     \n",
    ").to(gpu)"
   ]
  },
  {
   "cell_type": "code",
   "execution_count": 21,
   "id": "2827cb61",
   "metadata": {},
   "outputs": [
    {
     "name": "stderr",
     "output_type": "stream",
     "text": [
      "                                                                      \r"
     ]
    },
    {
     "name": "stdout",
     "output_type": "stream",
     "text": [
      "Epoch 01/10 | Loss: 1.4163 | Acc: 45.74%\n"
     ]
    },
    {
     "name": "stderr",
     "output_type": "stream",
     "text": [
      "                                                                       \r"
     ]
    },
    {
     "name": "stdout",
     "output_type": "stream",
     "text": [
      "Epoch 02/10 | Loss: 1.0354 | Acc: 61.22%\n"
     ]
    },
    {
     "name": "stderr",
     "output_type": "stream",
     "text": [
      "                                                                       \r"
     ]
    },
    {
     "name": "stdout",
     "output_type": "stream",
     "text": [
      "Epoch 03/10 | Loss: 0.9133 | Acc: 64.93%\n"
     ]
    },
    {
     "name": "stderr",
     "output_type": "stream",
     "text": [
      "                                                                       \r"
     ]
    },
    {
     "name": "stdout",
     "output_type": "stream",
     "text": [
      "Epoch 04/10 | Loss: 0.8455 | Acc: 68.00%\n"
     ]
    },
    {
     "name": "stderr",
     "output_type": "stream",
     "text": [
      "                                                                       \r"
     ]
    },
    {
     "name": "stdout",
     "output_type": "stream",
     "text": [
      "Epoch 05/10 | Loss: 0.7606 | Acc: 71.04%\n"
     ]
    },
    {
     "name": "stderr",
     "output_type": "stream",
     "text": [
      "                                                                       \r"
     ]
    },
    {
     "name": "stdout",
     "output_type": "stream",
     "text": [
      "Epoch 06/10 | Loss: 0.7520 | Acc: 71.37%\n"
     ]
    },
    {
     "name": "stderr",
     "output_type": "stream",
     "text": [
      "                                                                       \r"
     ]
    },
    {
     "name": "stdout",
     "output_type": "stream",
     "text": [
      "Epoch 07/10 | Loss: 0.6935 | Acc: 73.70%\n"
     ]
    },
    {
     "name": "stderr",
     "output_type": "stream",
     "text": [
      "                                                                       \r"
     ]
    },
    {
     "name": "stdout",
     "output_type": "stream",
     "text": [
      "Epoch 08/10 | Loss: 0.6716 | Acc: 74.93%\n"
     ]
    },
    {
     "name": "stderr",
     "output_type": "stream",
     "text": [
      "                                                                       \r"
     ]
    },
    {
     "name": "stdout",
     "output_type": "stream",
     "text": [
      "Epoch 09/10 | Loss: 0.6251 | Acc: 76.56%\n"
     ]
    },
    {
     "name": "stderr",
     "output_type": "stream",
     "text": [
      "                                                                        \r"
     ]
    },
    {
     "name": "stdout",
     "output_type": "stream",
     "text": [
      "Epoch 10/10 | Loss: 0.6325 | Acc: 76.33%\n",
      "\n",
      "--- Train Performance ---\n",
      "Accuracy: 82.07%\n",
      "Avg Loss: 0.5006\n",
      "\n",
      "Classification Report:\n",
      "              precision    recall  f1-score   support\n",
      "\n",
      "   buildings       0.81      0.80      0.80       389\n",
      "      forest       0.92      0.92      0.92       424\n",
      "     glacier       0.87      0.72      0.79       501\n",
      "    mountain       0.87      0.70      0.78       480\n",
      "         sea       0.68      0.92      0.78       462\n",
      "      street       0.84      0.89      0.86       444\n",
      "\n",
      "    accuracy                           0.82      2700\n",
      "   macro avg       0.83      0.82      0.82      2700\n",
      "weighted avg       0.83      0.82      0.82      2700\n",
      "\n",
      "Confusion Matrix:\n",
      "[[311  15   0   4  18  41]\n",
      " [  4 390   0   3   1  26]\n",
      " [ 10   2 361  30  93   5]\n",
      " [ 13   4  44 337  81   1]\n",
      " [ 16   2   8  12 424   0]\n",
      " [ 31  11   0   1   8 393]]\n",
      "\n",
      "--- Test Performance ---\n",
      "Accuracy: 73.27%\n",
      "Avg Loss: 0.7111\n",
      "\n",
      "Classification Report:\n",
      "              precision    recall  f1-score   support\n",
      "\n",
      "   buildings       0.69      0.70      0.69      2191\n",
      "      forest       0.90      0.90      0.90      2271\n",
      "     glacier       0.79      0.60      0.68      2404\n",
      "    mountain       0.77      0.58      0.66      2512\n",
      "         sea       0.57      0.82      0.67      2274\n",
      "      street       0.76      0.81      0.78      2382\n",
      "\n",
      "    accuracy                           0.73     14034\n",
      "   macro avg       0.75      0.74      0.73     14034\n",
      "weighted avg       0.75      0.73      0.73     14034\n",
      "\n",
      "Confusion Matrix:\n",
      "[[1527  100   25   49  138  352]\n",
      " [  41 2052    2   18   16  142]\n",
      " [ 101   16 1449  212  576   50]\n",
      " [ 121   17  277 1464  609   24]\n",
      " [ 140    8   66  157 1871   32]\n",
      " [ 279   92    9   11   71 1920]]\n"
     ]
    }
   ],
   "source": [
    "history = fit(model, train_dl, lr=0.001, epochs=10, info=True, early_stop=True, val_dl=val_dl)\n",
    "\n",
    "loss_func = nn.CrossEntropyLoss()\n",
    "label_names = test_dl.dataset.classes\n",
    "\n",
    "train_metrics = evaluate(model, train_dl, loss_func=loss_func, label_names=label_names, set_name=\"Train\")\n",
    "\n",
    "test_metrics = evaluate(model, test_dl, loss_func=loss_func, label_names=label_names, set_name=\"Test\")"
   ]
  },
  {
   "cell_type": "markdown",
   "id": "b31c812e",
   "metadata": {},
   "source": [
    "### Commentary on Effectiveness:\n",
    "\n",
    "- Training Accuracy improved by 4%  indicating that the model was able to optimize more effectively while maintaining stability.  This suggests that the BatchNorm helped stabilize internal activations allowing for deeper/faster learning across epochs.\n",
    "\n",
    "- Test Accuracy improved by 3% indicating the combined effect of regularization preventing the model from overfitting past the point of max validation performance.\n",
    "\n",
    "- Overall the additions resulted in a more robust and stable model design.  BatchNorm made the model less sensitive to initialization and data scaling.  Early Stop ensured the model retained generalization capacity without overfitting."
   ]
  },
  {
   "cell_type": "markdown",
   "id": "a48b2f56",
   "metadata": {},
   "source": []
  }
 ],
 "metadata": {
  "kernelspec": {
   "display_name": "torch128",
   "language": "python",
   "name": "python3"
  },
  "language_info": {
   "codemirror_mode": {
    "name": "ipython",
    "version": 3
   },
   "file_extension": ".py",
   "mimetype": "text/x-python",
   "name": "python",
   "nbconvert_exporter": "python",
   "pygments_lexer": "ipython3",
   "version": "3.11.11"
  }
 },
 "nbformat": 4,
 "nbformat_minor": 5
}
